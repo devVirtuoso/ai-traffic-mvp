{
 "cells": [
  {
   "cell_type": "markdown",
   "id": "7078f911",
   "metadata": {},
   "source": [
    "# RL Training Notebook: Smart Traffic Management System\n",
    "This notebook demonstrates how to train a baseline PPO agent in SUMO for urban traffic signal optimization."
   ]
  },
  {
   "cell_type": "markdown",
   "id": "9b0ca94e",
   "metadata": {},
   "source": [
    "## 1. Project Overview & Setup\n",
    "\n",
    "- **Objective:** Train a PPO agent to optimize traffic signals using SUMO simulation.\n",
    "- **Requirements:** SUMO, TraCI, Stable-Baselines3, PyTorch, OpenCV, YOLOv8, matplotlib.\n",
    "- **Setup:** Ensure SUMO and Python dependencies are installed."
   ]
  },
  {
   "cell_type": "code",
   "execution_count": null,
   "id": "7ae81aad",
   "metadata": {},
   "outputs": [],
   "source": [
    "# 2. Import Libraries\n",
    "import os\n",
    "import sys\n",
    "import numpy as np\n",
    "import matplotlib.pyplot as plt\n",
    "from stable_baselines3 import PPO\n",
    "from stable_baselines3.common.vec_env import DummyVecEnv\n",
    "import torch\n",
    "\n",
    "# SUMO TraCI imports (requires SUMO installed)\n",
    "try:\n",
    "    import traci\n",
    "except ImportError:\n",
    "    print('Please install SUMO and TraCI Python bindings.')\n",
    "\n",
    "# Import project RL environment\n",
    "sys.path.append('../src')\n",
    "from src.sim.env import CustomSUTrafficEnv"
   ]
  },
  {
   "cell_type": "markdown",
   "id": "8493bf88",
   "metadata": {},
   "source": [
    "## 3. SUMO Environment Initialization\n",
    "\n",
    "Set up the SUMO simulation environment and define the RL interface."
   ]
  },
  {
   "cell_type": "code",
   "execution_count": null,
   "id": "b27a904c",
   "metadata": {},
   "outputs": [],
   "source": [
    "# Example: Initialize SUMO RL environment (project-compatible)\n",
    "def make_env():\n",
    "    return CustomSUTrafficEnv(nogui=True)\n",
    "\n",
    "# Wrap with DummyVecEnv for Stable-Baselines3\n",
    "env = DummyVecEnv([make_env])"
   ]
  },
  {
   "cell_type": "markdown",
   "id": "6b84b5f5",
   "metadata": {},
   "source": [
    "## 4. PPO Agent Training\n",
    "\n",
    "Train a PPO agent using Stable-Baselines3 on the SUMO environment."
   ]
  },
  {
   "cell_type": "code",
   "execution_count": null,
   "id": "e95c9ae3",
   "metadata": {},
   "outputs": [],
   "source": [
    "# PPO training loop using project RL environment\n",
    "model = PPO('MlpPolicy', env, verbose=1)\n",
    "model.learn(total_timesteps=10000)\n",
    "\n",
    "# Save model\n",
    "model.save(\"ppo_agent_sumo\")"
   ]
  },
  {
   "cell_type": "markdown",
   "id": "4635b90c",
   "metadata": {},
   "source": [
    "## 5. Evaluation & Visualization\n",
    "\n",
    "Evaluate the trained agent and visualize results (e.g., average travel time reduction)."
   ]
  },
  {
   "cell_type": "code",
   "execution_count": null,
   "id": "c1fc5b98",
   "metadata": {},
   "outputs": [],
   "source": [
    "# Evaluate agent and plot results\n",
    "obs = env.reset()\n",
    "if isinstance(obs, tuple):\n",
    "    obs = obs[0]\n",
    "rewards = []\n",
    "for _ in range(1000):\n",
    "    action, _ = model.predict(obs, deterministic=True)\n",
    "    step_result = env.step(action)\n",
    "    if isinstance(step_result, tuple):\n",
    "        obs, reward, done, info = step_result\n",
    "    else:\n",
    "        obs = step_result\n",
    "        reward = 0.0\n",
    "        done = False\n",
    "        info = {}\n",
    "    rewards.append(reward[0] if isinstance(reward, (list, np.ndarray)) else reward)\n",
    "    if done[0] if isinstance(done, (list, np.ndarray)) else done:\n",
    "        obs = env.reset()\n",
    "        if isinstance(obs, tuple):\n",
    "            obs = obs[0]\n",
    "\n",
    "plt.plot(rewards)\n",
    "plt.title('Episode Rewards')\n",
    "plt.xlabel('Step')\n",
    "plt.ylabel('Reward')\n",
    "plt.show()"
   ]
  },
  {
   "cell_type": "markdown",
   "id": "67ed084e",
   "metadata": {},
   "source": [
    "## 6. Next Steps & References\n",
    "\n",
    "- Extend environment for multi-intersection and real camera feeds.\n",
    "- Integrate YOLOv8 for live vehicle detection.\n",
    "- References:\n",
    "    - [SUMO Documentation](https://sumo.dlr.de/docs/)\n",
    "    - [Stable-Baselines3](https://stable-baselines3.readthedocs.io/)\n",
    "    - [PyTorch](https://pytorch.org/)"
   ]
  },
  {
   "cell_type": "markdown",
   "id": "a028d5e0",
   "metadata": {},
   "source": [
    "## Compatibility Update\n",
    "\n",
    "This notebook now uses the project’s Gym-compatible SUMO RL environment (`CustomSUTrafficEnv`) for PPO training."
   ]
  }
 ],
 "metadata": {
  "language_info": {
   "name": "python"
  }
 },
 "nbformat": 4,
 "nbformat_minor": 5
}
